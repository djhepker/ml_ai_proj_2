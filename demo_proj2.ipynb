{
 "cells": [
  {
   "cell_type": "code",
   "execution_count": 53,
   "id": "19ee32fe",
   "metadata": {},
   "outputs": [],
   "source": [
    "# --- Core Libraries ---\n",
    "import pickle\n",
    "import numpy as np\n",
    "import pandas as pd\n",
    "\n",
    "# --- Machine Learning Tools ---\n",
    "from sklearn.feature_extraction.text import TfidfVectorizer\n",
    "from sklearn.metrics import classification_report, confusion_matrix\n",
    "import xgboost as xgb\n"
   ]
  },
  {
   "cell_type": "code",
   "execution_count": 54,
   "id": "0617b02c",
   "metadata": {},
   "outputs": [
    {
     "name": "stdout",
     "output_type": "stream",
     "text": [
      "TF-IDF vectorizer loaded.\n",
      "XGBoost model loaded.\n"
     ]
    }
   ],
   "source": [
    "#Cell 2\n",
    "# Load TF-IDF vectorizer\n",
    "with open(\"tfidf_vectorizer.pkl\", \"rb\") as f:\n",
    "    vectorizer = pickle.load(f)\n",
    "print(\"TF-IDF vectorizer loaded.\")\n",
    "\n",
    "# Load trained XGBoost model\n",
    "with open(\"xgb_model.pkl\", \"rb\") as f:\n",
    "    xgb_model = pickle.load(f)\n",
    "print(\"XGBoost model loaded.\")"
   ]
  },
  {
   "cell_type": "code",
   "execution_count": 55,
   "id": "ee368781",
   "metadata": {},
   "outputs": [],
   "source": [
    "#Cell 3\n",
    "# New input text examples\n",
    "# Example text inputs for sentiment classification\n",
    "texts = [\n",
    "    \"I love this movie. It was fantastic and really enjoyable!\",\n",
    "    \"Worst experience ever. The product was broken when it arrived.\",\n",
    "    \"Mediocre service, nothing special.\",\n",
    "    \"Absolutely loved the new update!\",\n",
    "    \"This is the most disappointing thing I've bought.\"\n",
    "    \"This class was a total mess — lectures never made any sense.\",\n",
    "    \"Great class! I learned a lot and the professor was very helpful.\",\n",
    "    \"I felt like I was teaching myself most of the time.\",\n",
    "    \"The group projects were painful but I did enjoy the content.\",\n",
    "    \"Clear grading, fair assignments, and useful material. Would recommend.\",\n",
    "    \"SCOPE is life-changing... in the worst possible way.\",\n",
    "    \"Labs were fun but lectures were a bit slow.\",\n",
    "    \"Excellent pacing, feedback was always prompt.\",\n",
    "    \"Hard to follow, exams didn't reflect what we learned.\",\n",
    "    \"Everything was organized and the TA support was awesome.\"\n",
    "]\n"
   ]
  },
  {
   "cell_type": "code",
   "execution_count": 56,
   "id": "edda48c4",
   "metadata": {},
   "outputs": [
    {
     "name": "stdout",
     "output_type": "stream",
     "text": [
      "\n",
      "Text: I love this movie. It was fantastic and really enjoyable!\n",
      "Predicted Sentiment: Positive (Confidence: 0.92)\n",
      "\n",
      "Text: Worst experience ever. The product was broken when it arrived.\n",
      "Predicted Sentiment: Negative (Confidence: 0.80)\n",
      "\n",
      "Text: Mediocre service, nothing special.\n",
      "Predicted Sentiment: Negative (Confidence: 0.73)\n",
      "\n",
      "Text: Absolutely loved the new update!\n",
      "Predicted Sentiment: Negative (Confidence: 0.64)\n",
      "\n",
      "Text: This is the most disappointing thing I've bought.This class was a total mess — lectures never made any sense.\n",
      "Predicted Sentiment: Negative (Confidence: 0.71)\n",
      "\n",
      "Text: Great class! I learned a lot and the professor was very helpful.\n",
      "Predicted Sentiment: Positive (Confidence: 0.99)\n",
      "\n",
      "Text: I felt like I was teaching myself most of the time.\n",
      "Predicted Sentiment: Negative (Confidence: 0.76)\n",
      "\n",
      "Text: The group projects were painful but I did enjoy the content.\n",
      "Predicted Sentiment: Negative (Confidence: 0.80)\n",
      "\n",
      "Text: Clear grading, fair assignments, and useful material. Would recommend.\n",
      "Predicted Sentiment: Positive (Confidence: 0.54)\n",
      "\n",
      "Text: SCOPE is life-changing... in the worst possible way.\n",
      "Predicted Sentiment: Negative (Confidence: 0.80)\n",
      "\n",
      "Text: Labs were fun but lectures were a bit slow.\n",
      "Predicted Sentiment: Negative (Confidence: 0.94)\n",
      "\n",
      "Text: Excellent pacing, feedback was always prompt.\n",
      "Predicted Sentiment: Positive (Confidence: 0.85)\n",
      "\n",
      "Text: Hard to follow, exams didn't reflect what we learned.\n",
      "Predicted Sentiment: Negative (Confidence: 0.89)\n",
      "\n",
      "Text: Everything was organized and the TA support was awesome.\n",
      "Predicted Sentiment: Positive (Confidence: 0.76)\n"
     ]
    }
   ],
   "source": [
    "#Cell 4\n",
    "# Transform texts with TF-IDF\n",
    "X_input = vectorizer.transform(texts)\n",
    "\n",
    "# Predict sentiment labels and probabilities\n",
    "pred_labels = xgb_model.predict(X_input)\n",
    "pred_probs = xgb_model.predict_proba(X_input)\n",
    "\n",
    "# Display predictions\n",
    "for i, text in enumerate(texts):\n",
    "    label = \"Positive\" if pred_labels[i] == 1 else \"Negative\"\n",
    "    confidence = pred_probs[i][pred_labels[i]]\n",
    "    print(f\"\\nText: {text}\")\n",
    "    print(f\"Predicted Sentiment: {label} (Confidence: {confidence:.2f})\")\n"
   ]
  },
  {
   "cell_type": "code",
   "execution_count": null,
   "id": "1aac496b",
   "metadata": {},
   "outputs": [],
   "source": []
  }
 ],
 "metadata": {
  "kernelspec": {
   "display_name": "base",
   "language": "python",
   "name": "python3"
  },
  "language_info": {
   "codemirror_mode": {
    "name": "ipython",
    "version": 3
   },
   "file_extension": ".py",
   "mimetype": "text/x-python",
   "name": "python",
   "nbconvert_exporter": "python",
   "pygments_lexer": "ipython3",
   "version": "3.12.7"
  }
 },
 "nbformat": 4,
 "nbformat_minor": 5
}
